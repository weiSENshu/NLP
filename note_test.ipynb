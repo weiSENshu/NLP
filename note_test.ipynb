{
  "nbformat": 4,
  "nbformat_minor": 0,
  "metadata": {
    "colab": {
      "provenance": [],
      "authorship_tag": "ABX9TyP62gtKw+qy6sGL4tJ+jQY+",
      "include_colab_link": true
    },
    "kernelspec": {
      "name": "python3",
      "display_name": "Python 3"
    },
    "language_info": {
      "name": "python"
    },
    "gpuClass": "standard"
  },
  "cells": [
    {
      "cell_type": "markdown",
      "metadata": {
        "id": "view-in-github",
        "colab_type": "text"
      },
      "source": [
        "<a href=\"https://colab.research.google.com/github/weiSENshu/NLP/blob/main/note_test.ipynb\" target=\"_parent\"><img src=\"https://colab.research.google.com/assets/colab-badge.svg\" alt=\"Open In Colab\"/></a>"
      ]
    },
    {
      "cell_type": "code",
      "execution_count": null,
      "metadata": {
        "colab": {
          "base_uri": "https://localhost:8080/"
        },
        "id": "iXc2qbXwfKBv",
        "outputId": "ba9f22b4-4c7c-47fe-fe96-56e02af74d84"
      },
      "outputs": [
        {
          "output_type": "stream",
          "name": "stdout",
          "text": [
            "Looking in indexes: https://pypi.org/simple, https://us-python.pkg.dev/colab-wheels/public/simple/\n",
            "Collecting transformers[sentencepiece]\n",
            "  Downloading transformers-4.26.0-py3-none-any.whl (6.3 MB)\n",
            "\u001b[2K     \u001b[90m━━━━━━━━━━━━━━━━━━━━━━━━━━━━━━━━━━━━━━━━\u001b[0m \u001b[32m6.3/6.3 MB\u001b[0m \u001b[31m30.7 MB/s\u001b[0m eta \u001b[36m0:00:00\u001b[0m\n",
            "\u001b[?25hRequirement already satisfied: filelock in /usr/local/lib/python3.8/dist-packages (from transformers[sentencepiece]) (3.9.0)\n",
            "Collecting huggingface-hub<1.0,>=0.11.0\n",
            "  Downloading huggingface_hub-0.12.0-py3-none-any.whl (190 kB)\n",
            "\u001b[2K     \u001b[90m━━━━━━━━━━━━━━━━━━━━━━━━━━━━━━━━━━━━━━━\u001b[0m \u001b[32m190.3/190.3 KB\u001b[0m \u001b[31m6.9 MB/s\u001b[0m eta \u001b[36m0:00:00\u001b[0m\n",
            "\u001b[?25hRequirement already satisfied: pyyaml>=5.1 in /usr/local/lib/python3.8/dist-packages (from transformers[sentencepiece]) (6.0)\n",
            "Requirement already satisfied: tqdm>=4.27 in /usr/local/lib/python3.8/dist-packages (from transformers[sentencepiece]) (4.64.1)\n",
            "Requirement already satisfied: regex!=2019.12.17 in /usr/local/lib/python3.8/dist-packages (from transformers[sentencepiece]) (2022.6.2)\n",
            "Requirement already satisfied: numpy>=1.17 in /usr/local/lib/python3.8/dist-packages (from transformers[sentencepiece]) (1.21.6)\n",
            "Collecting tokenizers!=0.11.3,<0.14,>=0.11.1\n",
            "  Downloading tokenizers-0.13.2-cp38-cp38-manylinux_2_17_x86_64.manylinux2014_x86_64.whl (7.6 MB)\n",
            "\u001b[2K     \u001b[90m━━━━━━━━━━━━━━━━━━━━━━━━━━━━━━━━━━━━━━━━\u001b[0m \u001b[32m7.6/7.6 MB\u001b[0m \u001b[31m26.1 MB/s\u001b[0m eta \u001b[36m0:00:00\u001b[0m\n",
            "\u001b[?25hRequirement already satisfied: packaging>=20.0 in /usr/local/lib/python3.8/dist-packages (from transformers[sentencepiece]) (23.0)\n",
            "Requirement already satisfied: requests in /usr/local/lib/python3.8/dist-packages (from transformers[sentencepiece]) (2.25.1)\n",
            "Collecting sentencepiece!=0.1.92,>=0.1.91\n",
            "  Downloading sentencepiece-0.1.97-cp38-cp38-manylinux_2_17_x86_64.manylinux2014_x86_64.whl (1.3 MB)\n",
            "\u001b[2K     \u001b[90m━━━━━━━━━━━━━━━━━━━━━━━━━━━━━━━━━━━━━━━━\u001b[0m \u001b[32m1.3/1.3 MB\u001b[0m \u001b[31m35.5 MB/s\u001b[0m eta \u001b[36m0:00:00\u001b[0m\n",
            "\u001b[?25hRequirement already satisfied: protobuf<=3.20.2 in /usr/local/lib/python3.8/dist-packages (from transformers[sentencepiece]) (3.19.6)\n",
            "Requirement already satisfied: typing-extensions>=3.7.4.3 in /usr/local/lib/python3.8/dist-packages (from huggingface-hub<1.0,>=0.11.0->transformers[sentencepiece]) (4.4.0)\n",
            "Requirement already satisfied: chardet<5,>=3.0.2 in /usr/local/lib/python3.8/dist-packages (from requests->transformers[sentencepiece]) (4.0.0)\n",
            "Requirement already satisfied: urllib3<1.27,>=1.21.1 in /usr/local/lib/python3.8/dist-packages (from requests->transformers[sentencepiece]) (1.24.3)\n",
            "Requirement already satisfied: certifi>=2017.4.17 in /usr/local/lib/python3.8/dist-packages (from requests->transformers[sentencepiece]) (2022.12.7)\n",
            "Requirement already satisfied: idna<3,>=2.5 in /usr/local/lib/python3.8/dist-packages (from requests->transformers[sentencepiece]) (2.10)\n",
            "Installing collected packages: tokenizers, sentencepiece, huggingface-hub, transformers\n",
            "Successfully installed huggingface-hub-0.12.0 sentencepiece-0.1.97 tokenizers-0.13.2 transformers-4.26.0\n"
          ]
        }
      ],
      "source": [
        "!pip install transformers[sentencepiece]"
      ]
    },
    {
      "cell_type": "markdown",
      "source": [
        "ner(命名实体识别)"
      ],
      "metadata": {
        "id": "Geoco4n6B0Iw"
      }
    },
    {
      "cell_type": "code",
      "source": [
        "import transformers\n",
        "from transformers import pipeline\n",
        "\n",
        "ner = pipeline(\"ner\",grouped_entities = True) #grouped_entities为True则合并词组\n",
        "ner(\"My name is dss and I work at Beijing University in Beijing.\")"
      ],
      "metadata": {
        "id": "tNvLqwiCgwZZ"
      },
      "execution_count": null,
      "outputs": []
    },
    {
      "cell_type": "markdown",
      "source": [
        "fill-mask(填充空缺)"
      ],
      "metadata": {
        "id": "axhi6HaQIpW4"
      }
    },
    {
      "cell_type": "code",
      "source": [
        "import transformers\n",
        "from transformers import pipeline\n",
        "\n",
        "unmasker = pipeline(\"fill-mask\", model=\"bert-base-uncased\")\n",
        "result = unmasker(\"The man works as a [MASK].\")\n",
        "print([r[\"token_str\"] for r in result])\n",
        "\n",
        "result = unmasker(\"The woman works as a [MASK].\")\n",
        "print([r[\"token_str\"] for r in result])"
      ],
      "metadata": {
        "id": "89-ePYx-CRLk"
      },
      "execution_count": null,
      "outputs": []
    },
    {
      "cell_type": "markdown",
      "source": [
        "sentiment-analysis(情感分析)"
      ],
      "metadata": {
        "id": "MaTVlYTKZrp4"
      }
    },
    {
      "cell_type": "code",
      "source": [
        "from transformers import pipeline\n",
        "classifier = pipeline(\"sentiment-analysis\")\n",
        "classifier([\n",
        "    \"Nice to meet you.\",\n",
        "    \"Today is sunday. \"\n",
        "])"
      ],
      "metadata": {
        "id": "k7jSr_I4ZVUw"
      },
      "execution_count": null,
      "outputs": []
    },
    {
      "cell_type": "markdown",
      "source": [
        "zero-shot-classification(零样本分类)"
      ],
      "metadata": {
        "id": "hDToeI9IcJZN"
      }
    },
    {
      "cell_type": "code",
      "source": [
        "from transformers import pipeline\n",
        "classifier = pipeline(\"zero-shot-classification\")\n",
        "result = classifier(\n",
        "    \"My parents have earned $200 from this job\",\n",
        "    candidate_labels =[\"education\",\"economy\",\"business\"]\n",
        "    )\n",
        "print(result)"
      ],
      "metadata": {
        "id": "qAIV_HDDcmgu"
      },
      "execution_count": null,
      "outputs": []
    },
    {
      "cell_type": "markdown",
      "source": [
        "text-generation(文本生成)"
      ],
      "metadata": {
        "id": "DHsyEtJkfuxW"
      }
    },
    {
      "cell_type": "code",
      "source": [
        "from transformers import pipeline\n",
        "generator = pipeline(\"text-generation\")\n",
        "generator(\"Today,I feel so sad that\", \n",
        "          max_length = 50, #生成的最长单词数\n",
        "          num_return_sequences = 3 #生成句子的个数\n",
        ")"
      ],
      "metadata": {
        "id": "myxl-Wjdfuc7"
      },
      "execution_count": null,
      "outputs": []
    },
    {
      "cell_type": "markdown",
      "source": [
        "![image.png](data:image/png;base64,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)"
      ],
      "metadata": {
        "id": "oj0L7YaLI7Et"
      }
    },
    {
      "cell_type": "code",
      "source": [
        "from transformers import AutoTokenizer\n",
        "checkpoint = \"distilbert-base-uncased-finetuned-sst-2-english\"\n",
        "tokenizer = AutoTokenizer.from_pretrained(checkpoint)\n",
        "raw_inputs = [\n",
        "    \"I've been waiting for a HuggingFace course my whole life.\",\n",
        "    \"I hate this so much!\",\n",
        "]\n",
        "inputs = tokenizer(raw_inputs, padding=True, truncation=True, return_tensors=\"pt\")\n",
        "print(inputs)"
      ],
      "metadata": {
        "colab": {
          "base_uri": "https://localhost:8080/"
        },
        "id": "anHiztufuD_F",
        "outputId": "58197f26-9876-4988-9233-e5623fbcd954"
      },
      "execution_count": null,
      "outputs": [
        {
          "output_type": "stream",
          "name": "stdout",
          "text": [
            "{'input_ids': tensor([[  101,  1045,  1005,  2310,  2042,  3403,  2005,  1037, 17662, 12172,\n",
            "          2607,  2026,  2878,  2166,  1012,   102],\n",
            "        [  101,  1045,  5223,  2023,  2061,  2172,   999,   102,     0,     0,\n",
            "             0,     0,     0,     0,     0,     0]]), 'attention_mask': tensor([[1, 1, 1, 1, 1, 1, 1, 1, 1, 1, 1, 1, 1, 1, 1, 1],\n",
            "        [1, 1, 1, 1, 1, 1, 1, 1, 0, 0, 0, 0, 0, 0, 0, 0]])}\n"
          ]
        }
      ]
    }
  ]
}